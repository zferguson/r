{
  "nbformat": 4,
  "nbformat_minor": 0,
  "metadata": {
    "colab": {
      "provenance": [],
      "authorship_tag": "ABX9TyMEM6CBw2HDFHYLqvQljUep",
      "include_colab_link": true
    },
    "kernelspec": {
      "name": "ir",
      "display_name": "R"
    },
    "language_info": {
      "name": "R"
    }
  },
  "cells": [
    {
      "cell_type": "markdown",
      "metadata": {
        "id": "view-in-github",
        "colab_type": "text"
      },
      "source": [
        "<a href=\"https://colab.research.google.com/github/zferguson/rProjects/blob/master/heart_disease_analysis.ipynb\" target=\"_parent\"><img src=\"https://colab.research.google.com/assets/colab-badge.svg\" alt=\"Open In Colab\"/></a>"
      ]
    },
    {
      "cell_type": "markdown",
      "source": [
        "# **Heart Disease Analysis**"
      ],
      "metadata": {
        "id": "e_75Uh0GGcl0"
      }
    },
    {
      "cell_type": "markdown",
      "source": [
        "Import modules"
      ],
      "metadata": {
        "id": "kjUUuFPXGjP7"
      }
    },
    {
      "cell_type": "code",
      "source": [
        "library(dplyr)\n",
        "library(ggplot2)\n",
        "library(tidyr)"
      ],
      "metadata": {
        "id": "QGzdKoRTGdCZ"
      },
      "execution_count": null,
      "outputs": []
    },
    {
      "cell_type": "markdown",
      "source": [
        "Import data from CSV, drop any rows with missing data, and preview"
      ],
      "metadata": {
        "id": "o49rHTApGl_R"
      }
    },
    {
      "cell_type": "code",
      "source": [
        "df_raw <- read.csv('./sample_data/heart.csv', header = TRUE)\n",
        "df <- na.omit(df_raw)\n",
        "\n",
        "glimpse(df)\n",
        "head(df)"
      ],
      "metadata": {
        "colab": {
          "base_uri": "https://localhost:8080/",
          "height": 556
        },
        "id": "52pkiKGHD_hw",
        "outputId": "1058a525-9030-4a41-96bb-173df3935de4"
      },
      "execution_count": 24,
      "outputs": [
        {
          "output_type": "stream",
          "name": "stdout",
          "text": [
            "Rows: 918\n",
            "Columns: 12\n",
            "$ Age            \u001b[3m\u001b[90m<int>\u001b[39m\u001b[23m 40, 49, 37, 48, 54, 39, 45, 54, 37, 48, 37, 58, 39, 49,…\n",
            "$ Sex            \u001b[3m\u001b[90m<chr>\u001b[39m\u001b[23m \"M\", \"F\", \"M\", \"F\", \"M\", \"M\", \"F\", \"M\", \"M\", \"F\", \"F\", …\n",
            "$ ChestPainType  \u001b[3m\u001b[90m<chr>\u001b[39m\u001b[23m \"ATA\", \"NAP\", \"ATA\", \"ASY\", \"NAP\", \"NAP\", \"ATA\", \"ATA\",…\n",
            "$ RestingBP      \u001b[3m\u001b[90m<int>\u001b[39m\u001b[23m 140, 160, 130, 138, 150, 120, 130, 110, 140, 120, 130, …\n",
            "$ Cholesterol    \u001b[3m\u001b[90m<int>\u001b[39m\u001b[23m 289, 180, 283, 214, 195, 339, 237, 208, 207, 284, 211, …\n",
            "$ FastingBS      \u001b[3m\u001b[90m<int>\u001b[39m\u001b[23m 0, 0, 0, 0, 0, 0, 0, 0, 0, 0, 0, 0, 0, 0, 0, 0, 0, 0, 0…\n",
            "$ RestingECG     \u001b[3m\u001b[90m<chr>\u001b[39m\u001b[23m \"Normal\", \"Normal\", \"ST\", \"Normal\", \"Normal\", \"Normal\",…\n",
            "$ MaxHR          \u001b[3m\u001b[90m<int>\u001b[39m\u001b[23m 172, 156, 98, 108, 122, 170, 170, 142, 130, 120, 142, 9…\n",
            "$ ExerciseAngina \u001b[3m\u001b[90m<chr>\u001b[39m\u001b[23m \"N\", \"N\", \"N\", \"Y\", \"N\", \"N\", \"N\", \"N\", \"Y\", \"N\", \"N\", …\n",
            "$ Oldpeak        \u001b[3m\u001b[90m<dbl>\u001b[39m\u001b[23m 0.0, 1.0, 0.0, 1.5, 0.0, 0.0, 0.0, 0.0, 1.5, 0.0, 0.0, …\n",
            "$ ST_Slope       \u001b[3m\u001b[90m<chr>\u001b[39m\u001b[23m \"Up\", \"Flat\", \"Up\", \"Flat\", \"Up\", \"Up\", \"Up\", \"Up\", \"Fl…\n",
            "$ HeartDisease   \u001b[3m\u001b[90m<int>\u001b[39m\u001b[23m 0, 1, 0, 1, 0, 0, 0, 0, 1, 0, 0, 1, 0, 1, 0, 0, 1, 0, 1…\n"
          ]
        },
        {
          "output_type": "display_data",
          "data": {
            "text/html": [
              "<table class=\"dataframe\">\n",
              "<caption>A data.frame: 6 × 12</caption>\n",
              "<thead>\n",
              "\t<tr><th></th><th scope=col>Age</th><th scope=col>Sex</th><th scope=col>ChestPainType</th><th scope=col>RestingBP</th><th scope=col>Cholesterol</th><th scope=col>FastingBS</th><th scope=col>RestingECG</th><th scope=col>MaxHR</th><th scope=col>ExerciseAngina</th><th scope=col>Oldpeak</th><th scope=col>ST_Slope</th><th scope=col>HeartDisease</th></tr>\n",
              "\t<tr><th></th><th scope=col>&lt;int&gt;</th><th scope=col>&lt;chr&gt;</th><th scope=col>&lt;chr&gt;</th><th scope=col>&lt;int&gt;</th><th scope=col>&lt;int&gt;</th><th scope=col>&lt;int&gt;</th><th scope=col>&lt;chr&gt;</th><th scope=col>&lt;int&gt;</th><th scope=col>&lt;chr&gt;</th><th scope=col>&lt;dbl&gt;</th><th scope=col>&lt;chr&gt;</th><th scope=col>&lt;int&gt;</th></tr>\n",
              "</thead>\n",
              "<tbody>\n",
              "\t<tr><th scope=row>1</th><td>40</td><td>M</td><td>ATA</td><td>140</td><td>289</td><td>0</td><td>Normal</td><td>172</td><td>N</td><td>0.0</td><td>Up  </td><td>0</td></tr>\n",
              "\t<tr><th scope=row>2</th><td>49</td><td>F</td><td>NAP</td><td>160</td><td>180</td><td>0</td><td>Normal</td><td>156</td><td>N</td><td>1.0</td><td>Flat</td><td>1</td></tr>\n",
              "\t<tr><th scope=row>3</th><td>37</td><td>M</td><td>ATA</td><td>130</td><td>283</td><td>0</td><td>ST    </td><td> 98</td><td>N</td><td>0.0</td><td>Up  </td><td>0</td></tr>\n",
              "\t<tr><th scope=row>4</th><td>48</td><td>F</td><td>ASY</td><td>138</td><td>214</td><td>0</td><td>Normal</td><td>108</td><td>Y</td><td>1.5</td><td>Flat</td><td>1</td></tr>\n",
              "\t<tr><th scope=row>5</th><td>54</td><td>M</td><td>NAP</td><td>150</td><td>195</td><td>0</td><td>Normal</td><td>122</td><td>N</td><td>0.0</td><td>Up  </td><td>0</td></tr>\n",
              "\t<tr><th scope=row>6</th><td>39</td><td>M</td><td>NAP</td><td>120</td><td>339</td><td>0</td><td>Normal</td><td>170</td><td>N</td><td>0.0</td><td>Up  </td><td>0</td></tr>\n",
              "</tbody>\n",
              "</table>\n"
            ],
            "text/markdown": "\nA data.frame: 6 × 12\n\n| <!--/--> | Age &lt;int&gt; | Sex &lt;chr&gt; | ChestPainType &lt;chr&gt; | RestingBP &lt;int&gt; | Cholesterol &lt;int&gt; | FastingBS &lt;int&gt; | RestingECG &lt;chr&gt; | MaxHR &lt;int&gt; | ExerciseAngina &lt;chr&gt; | Oldpeak &lt;dbl&gt; | ST_Slope &lt;chr&gt; | HeartDisease &lt;int&gt; |\n|---|---|---|---|---|---|---|---|---|---|---|---|---|\n| 1 | 40 | M | ATA | 140 | 289 | 0 | Normal | 172 | N | 0.0 | Up   | 0 |\n| 2 | 49 | F | NAP | 160 | 180 | 0 | Normal | 156 | N | 1.0 | Flat | 1 |\n| 3 | 37 | M | ATA | 130 | 283 | 0 | ST     |  98 | N | 0.0 | Up   | 0 |\n| 4 | 48 | F | ASY | 138 | 214 | 0 | Normal | 108 | Y | 1.5 | Flat | 1 |\n| 5 | 54 | M | NAP | 150 | 195 | 0 | Normal | 122 | N | 0.0 | Up   | 0 |\n| 6 | 39 | M | NAP | 120 | 339 | 0 | Normal | 170 | N | 0.0 | Up   | 0 |\n\n",
            "text/latex": "A data.frame: 6 × 12\n\\begin{tabular}{r|llllllllllll}\n  & Age & Sex & ChestPainType & RestingBP & Cholesterol & FastingBS & RestingECG & MaxHR & ExerciseAngina & Oldpeak & ST\\_Slope & HeartDisease\\\\\n  & <int> & <chr> & <chr> & <int> & <int> & <int> & <chr> & <int> & <chr> & <dbl> & <chr> & <int>\\\\\n\\hline\n\t1 & 40 & M & ATA & 140 & 289 & 0 & Normal & 172 & N & 0.0 & Up   & 0\\\\\n\t2 & 49 & F & NAP & 160 & 180 & 0 & Normal & 156 & N & 1.0 & Flat & 1\\\\\n\t3 & 37 & M & ATA & 130 & 283 & 0 & ST     &  98 & N & 0.0 & Up   & 0\\\\\n\t4 & 48 & F & ASY & 138 & 214 & 0 & Normal & 108 & Y & 1.5 & Flat & 1\\\\\n\t5 & 54 & M & NAP & 150 & 195 & 0 & Normal & 122 & N & 0.0 & Up   & 0\\\\\n\t6 & 39 & M & NAP & 120 & 339 & 0 & Normal & 170 & N & 0.0 & Up   & 0\\\\\n\\end{tabular}\n",
            "text/plain": [
              "  Age Sex ChestPainType RestingBP Cholesterol FastingBS RestingECG MaxHR\n",
              "1 40  M   ATA           140       289         0         Normal     172  \n",
              "2 49  F   NAP           160       180         0         Normal     156  \n",
              "3 37  M   ATA           130       283         0         ST          98  \n",
              "4 48  F   ASY           138       214         0         Normal     108  \n",
              "5 54  M   NAP           150       195         0         Normal     122  \n",
              "6 39  M   NAP           120       339         0         Normal     170  \n",
              "  ExerciseAngina Oldpeak ST_Slope HeartDisease\n",
              "1 N              0.0     Up       0           \n",
              "2 N              1.0     Flat     1           \n",
              "3 N              0.0     Up       0           \n",
              "4 Y              1.5     Flat     1           \n",
              "5 N              0.0     Up       0           \n",
              "6 N              0.0     Up       0           "
            ]
          },
          "metadata": {}
        }
      ]
    },
    {
      "cell_type": "code",
      "source": [
        "# identify any categorical/character columns, these will need to be encoded\n",
        "cat_cols <- names(df)[sapply(df, is.character)]\n",
        "cat_cols"
      ],
      "metadata": {
        "colab": {
          "base_uri": "https://localhost:8080/",
          "height": 34
        },
        "id": "uq7j1bSwE7zm",
        "outputId": "5891f99d-10b0-495e-9b19-1e24da39abbd"
      },
      "execution_count": 18,
      "outputs": [
        {
          "output_type": "display_data",
          "data": {
            "text/html": [
              "<style>\n",
              ".list-inline {list-style: none; margin:0; padding: 0}\n",
              ".list-inline>li {display: inline-block}\n",
              ".list-inline>li:not(:last-child)::after {content: \"\\00b7\"; padding: 0 .5ex}\n",
              "</style>\n",
              "<ol class=list-inline><li>'Sex'</li><li>'ChestPainType'</li><li>'RestingECG'</li><li>'ExerciseAngina'</li><li>'ST_Slope'</li></ol>\n"
            ],
            "text/markdown": "1. 'Sex'\n2. 'ChestPainType'\n3. 'RestingECG'\n4. 'ExerciseAngina'\n5. 'ST_Slope'\n\n\n",
            "text/latex": "\\begin{enumerate*}\n\\item 'Sex'\n\\item 'ChestPainType'\n\\item 'RestingECG'\n\\item 'ExerciseAngina'\n\\item 'ST\\_Slope'\n\\end{enumerate*}\n",
            "text/plain": [
              "[1] \"Sex\"            \"ChestPainType\"  \"RestingECG\"     \"ExerciseAngina\"\n",
              "[5] \"ST_Slope\"      "
            ]
          },
          "metadata": {}
        }
      ]
    }
  ]
}